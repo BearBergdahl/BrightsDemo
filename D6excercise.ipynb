{
 "cells": [
  {
   "cell_type": "markdown",
   "metadata": {},
   "source": [
    "### Exercise files, dicts and pops\n",
    "\n",
    "Write a class that contains a __init__ that takes a filename (customers_100.csv)as a parameter.Add another dictionary named customerdb as an extra instance variable. (no in parameter.)\n",
    "\n",
    "\n",
    "Add a instance method `loaddata()` that takes the filename and loads that file into the dictionary customerdb. Strip away the index and make the Customer_Id (check out `.pop()`) the key for each key:value pair in the dict and add the rest of the data as the value in a list.\n",
    "\n",
    "Add a instance method to return the Country from a record when given a Customer_id or return a message that it doesn't exist if missing.Use try-except to avoid KeyErrors in the dict and file reading errors in the `loaddata()`\n",
    "\n",
    "\n"
   ]
  },
  {
   "cell_type": "code",
   "execution_count": null,
   "metadata": {},
   "outputs": [],
   "source": [
    "#example element from the dictionary:\n",
    "{\"DD37Cf93aecA6Dc\" : [\"Sheryl\",\"Baxter\",\"Rasmussen Group\",\"East Leonard\",\"Chile\",\"229.077.5154,397.884.0519x718\",\"zunigavanessa@smith.info\",\"2020-08-24\",\"http://www.stephenson.com/\"]}"
   ]
  }
 ],
 "metadata": {
  "language_info": {
   "name": "python"
  }
 },
 "nbformat": 4,
 "nbformat_minor": 2
}
