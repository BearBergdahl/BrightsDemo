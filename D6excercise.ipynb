{
 "cells": [
  {
   "cell_type": "markdown",
   "metadata": {},
   "source": [
    "### Exercise files, dicts and pops\n",
    "\n",
    "* Write a class that contains a __init__ that takes a filename (customers_100.csv)as a parameter.Add another dictionary named customerdb as an extra instance variable. (no in parameter.)\n",
    "\n",
    "* Add a instance method `loaddata()` that takes the filename and loads that file into the dictionary customerdb. Strip away the index and make the Customer_Id (check out `.pop()`) the key for each key:value pair in the dict and add the rest of the data as the value in a list.\n",
    "\n",
    "* Add a instance method to return the Country from a record when given a Customer_id or return a message that it doesn't exist if missing.Use try-except to avoid KeyErrors in the dict and file reading errors in the `loaddata()`\n",
    "\n",
    "### Bonus:\n",
    "* Add a function to the class that prints the dictionary, make it non public\n",
    "* Add a function that returns an item from the dictionary when given a Customer Id with both key and value fields. Print the results outside in the calling code.\n",
    "* Add a function that prints a row when given a Customer Id but also includes the header row in the print.\n",
    "\n",
    "\n"
   ]
  },
  {
   "cell_type": "code",
   "execution_count": null,
   "metadata": {},
   "outputs": [],
   "source": [
    "#example element from the dictionary:\n",
    "# {\"DD37Cf93aecA6Dc\" : [\"Sheryl\",\"Baxter\",\"Rasmussen Group\",\"East Leonard\",\"Chile\",\"229.077.5154,397.884.0519x718\",\"zunigavanessa@smith.info\",\"2020-08-24\",\"http://www.stephenson.com/\"]}"
   ]
  },
  {
   "cell_type": "code",
   "execution_count": null,
   "metadata": {},
   "outputs": [],
   "source": [
    "class Customers():\n",
    "    def __init__(self, filename):\n",
    "        self.filename = filename\n",
    "        self.customerdb = dict()\n",
    "\n",
    "    def loaddata(self):\n",
    "        try:\n",
    "            with open(self.filename) as cfile:\n",
    "                clist = cfile.readlines()\n",
    "        except FileNotFoundError:\n",
    "            print(\"Filename is wrong or file is missing\")\n",
    "        for rawrow in clist:\n",
    "            row = rawrow.split(',')\n",
    "            _ = row.pop(0) # throw away first entry - the index in each row\n",
    "            self.customerdb[row.pop(0)] = row\n",
    "\n",
    "    def _printdb(self):\n",
    "        for item in self.customerdb:\n",
    "            print(item, self.customerdb[item])\n",
    "    \n",
    "    def get_customer(self, c_id):\n",
    "        try:\n",
    "            c_data = self.customerdb[c_id]\n",
    "            return (c_id, c_data)\n",
    "        except KeyError:\n",
    "            return 'No customer with that Id'\n",
    "        \n",
    "    def print_customer(self, c_id):\n",
    "        customer = self.get_customer(c_id)\n",
    "        if isinstance(customer, tuple):\n",
    "            print(f'Customer Id \\t \\t {self.customerdb['Customer Id'][0]}\\t {self.customerdb['Customer Id'][1]}\\t {self.customerdb['Customer Id'][2]}')\n",
    "            print(f'{customer[0]} \\t {customer[1][0]}\\t {customer[1][1]} \\t {customer[1][2]}')\n",
    "    \n",
    "    def get_country(self, c_id):\n",
    "        try:\n",
    "            return(self.customerdb[c_id][4])\n",
    "        except KeyError:\n",
    "            return(f'That id: {c_id} does not have an entry.')\n",
    "\n",
    "\n",
    "mycustomers = Customers(\"customers-100.csv\")\n",
    "mycustomers.loaddata()\n",
    "mycustomers._printdb()\n",
    "\n",
    "c_id = 'C2dE4dEEc489ae0'\n",
    "print(mycustomers.get_customer(c_id))\n",
    "mycustomers.print_customer(c_id)\n",
    "print(f'Customer {c_id} is from {mycustomers.get_country(c_id)}')\n"
   ]
  }
 ],
 "metadata": {
  "kernelspec": {
   "display_name": "Python 3",
   "language": "python",
   "name": "python3"
  },
  "language_info": {
   "codemirror_mode": {
    "name": "ipython",
    "version": 3
   },
   "file_extension": ".py",
   "mimetype": "text/x-python",
   "name": "python",
   "nbconvert_exporter": "python",
   "pygments_lexer": "ipython3",
   "version": "3.12.0"
  }
 },
 "nbformat": 4,
 "nbformat_minor": 2
}
