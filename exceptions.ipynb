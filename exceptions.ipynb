{
 "cells": [
  {
   "cell_type": "markdown",
   "metadata": {},
   "source": [
    "## Demo code - exceptions\n"
   ]
  },
  {
   "cell_type": "code",
   "execution_count": null,
   "metadata": {},
   "outputs": [],
   "source": [
    "import traceback\n",
    "number = 10\n",
    "divisor = 0\n",
    "while divisor == 0:\n",
    "    try: \n",
    "        divisor = int(input('What should we divide 10 by?'))\n",
    "        number = number / divisor\n",
    " \n",
    "    except ZeroDivisionError:\n",
    "        print(\"Can't divide by zero\")\n",
    "        errorfile = open('error.log','w')\n",
    "        errorfile.write(traceback.format_exc())    \n",
    "        errorfile.close()\n",
    "    except ValueError:\n",
    "        print(\"Can't divide by letter or non numbers\")\n",
    "        errorfile = open('error.log','w')\n",
    "        errorfile.write(traceback.format_exc())    \n",
    "        errorfile.close()\n",
    "    print(number)\n",
    "\n",
    "    \n"
   ]
  },
  {
   "cell_type": "markdown",
   "metadata": {},
   "source": [
    "## Assert\n",
    "Assert is a way of testing yourself and your code so no logicall errors of your own making stays.\n",
    "An assert throws an AssertionError but shouldn't be caught."
   ]
  },
  {
   "cell_type": "code",
   "execution_count": null,
   "metadata": {},
   "outputs": [],
   "source": [
    "def my_logic_fail():\n",
    "    a_var = True\n",
    "    my_str = input('A word, please!\\n')\n",
    "    if my_str or a_var:\n",
    "        print(my_str)\n",
    "    assert not my_str == '' and not my_str == None, 'whoops the string variable needs checking'\n",
    "\n",
    "my_logic_fail() "
   ]
  },
  {
   "cell_type": "markdown",
   "metadata": {},
   "source": [
    "### Assertions are for preventable errors and domain specific or business rules.\n",
    "They are safeguards written often written on function parameters for example"
   ]
  },
  {
   "cell_type": "code",
   "execution_count": 21,
   "metadata": {},
   "outputs": [
    {
     "name": "stdout",
     "output_type": "stream",
     "text": [
      "9\n"
     ]
    }
   ],
   "source": [
    "def integer_addition(first_num, second_num):\n",
    "    assert isinstance(first_num, int) and isinstance(second_num, int)\n",
    "    return first_num+second_num\n",
    "\n",
    "f_num = 4\n",
    "s_num = 5\n",
    "# s_num = 3.4 will throw an error\n",
    "\n",
    "print(integer_addition(f_num, s_num))"
   ]
  },
  {
   "cell_type": "markdown",
   "metadata": {},
   "source": [
    "## Logging\n",
    "\n",
    "`import logging`\n",
    "but logging takes config and you need to set the configs first.\n",
    "\n",
    "You can log to terminal but it´s rarely usefull.\n",
    "`filename =` 'your_log' sets a target\n",
    "`filemode =` default is 'a' as in append but you can change this.\n",
    "`level =` sets a logging level target, that is, everything more severe than this will be logged. (Default is warning)\n",
    "`format =` sets the format of your printet text, common pieces are a timestamp, the log level and a message, sometimes with the stacktrace. \n",
    "\n",
    "### Logging errors\n",
    "Error can be logged inside an except\n",
    "`logging.error(\"Exception exception happended\", exc_info = True)`\n",
    "The last part adds stacktrace\n",
    "or identical outcome:\n",
    "`logging.exception(\"Exception exception happended\")`\n",
    "Only to be called inside an except and automatically adds stacktrace and loggs an error on level = ERROR.\n"
   ]
  },
  {
   "cell_type": "code",
   "execution_count": 25,
   "metadata": {},
   "outputs": [
    {
     "name": "stdout",
     "output_type": "stream",
     "text": [
      "You rolled a 4 on your dice\n"
     ]
    }
   ],
   "source": [
    "import logging\n",
    "import random\n",
    "\n",
    "logging.basicConfig(filename= 'diceLogg.txt',level = logging.DEBUG, format = ' %(asctime)s -  %(levelname)s - %(message)s') \n",
    "\n",
    "def roll_dice(sides):\n",
    "    my_roll = random.randint(1,sides)\n",
    "    logging.warning(my_roll)\n",
    "    if 0 < sides and my_roll <= sides:\n",
    "        return my_roll\n",
    "    else:\n",
    "        logging.error('Well that dice is loaded...', my_roll)\n",
    "        assert 0 < my_roll <= sides, 'dice with an extra side or negative sides'\n",
    "\n",
    "while True:\n",
    "    dice_sides = int(input('Number of sides: '))\n",
    "    if dice_sides <= 0:\n",
    "        logging.warning('Dice number set to less than 0 or 0')\n",
    "        print('Dice needs sides...')\n",
    "        continue\n",
    "    print(f'You rolled a {roll_dice(dice_sides)} on your dice')\n",
    "    break"
   ]
  },
  {
   "cell_type": "markdown",
   "metadata": {},
   "source": [
    "## Exception exercise\n",
    "\n",
    "1. Create a non-notebook python script\n",
    "2. In this script let the user create a new txt-file (same folder as the script) inputing name.\n",
    "3. Let the user input text. It can't be empty.\n",
    "4. Close the file\n",
    "5. Let the user input a filename to open and print the content of a file. (the file above).\n",
    "6. Let the user append to the file and close.\n",
    "\n",
    "### Second run of this program\n",
    "* Try having the text file you have created up to step 4 open in a texteditor when you do the last two steps.\n",
    "* Any new errors\n",
    "* Handle all errors that can happen.\n",
    "\n",
    "### Replace or add other ways of handling errors with Assertion\n",
    "* Where do an assertion fit? Why?\n",
    "\n",
    "###\n",
    "* Add logging with time, level and custom message."
   ]
  }
 ],
 "metadata": {
  "kernelspec": {
   "display_name": "Python 3",
   "language": "python",
   "name": "python3"
  },
  "language_info": {
   "codemirror_mode": {
    "name": "ipython",
    "version": 3
   },
   "file_extension": ".py",
   "mimetype": "text/x-python",
   "name": "python",
   "nbconvert_exporter": "python",
   "pygments_lexer": "ipython3",
   "version": "3.12.0"
  }
 },
 "nbformat": 4,
 "nbformat_minor": 2
}
