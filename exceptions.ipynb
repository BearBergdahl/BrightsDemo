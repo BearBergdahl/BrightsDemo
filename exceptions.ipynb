{
 "cells": [
  {
   "cell_type": "markdown",
   "metadata": {},
   "source": [
    "## Demo code - exceptions\n"
   ]
  },
  {
   "cell_type": "code",
   "execution_count": null,
   "metadata": {},
   "outputs": [],
   "source": [
    "import traceback\n",
    "number = 10\n",
    "divisor = 0\n",
    "while divisor == 0:\n",
    "    try: \n",
    "        divisor = int(input('What should we divide 10 by?'))\n",
    "        number = number / divisor\n",
    " \n",
    "    except ZeroDivisionError:\n",
    "        print(\"Can't divide by zero\")\n",
    "        errorfile = open('error.log','w')\n",
    "        errorfile.write(traceback.format_exc())    \n",
    "        errorfile.close()\n",
    "    except ValueError:\n",
    "        print(\"Can't divide by letter or non numbers\")\n",
    "        errorfile = open('error.log','w')\n",
    "        errorfile.write(traceback.format_exc())    \n",
    "        errorfile.close()\n",
    "    print(number)\n",
    "\n",
    "    \n"
   ]
  }
 ],
 "metadata": {
  "kernelspec": {
   "display_name": "Python 3",
   "language": "python",
   "name": "python3"
  },
  "language_info": {
   "codemirror_mode": {
    "name": "ipython",
    "version": 3
   },
   "file_extension": ".py",
   "mimetype": "text/x-python",
   "name": "python",
   "nbconvert_exporter": "python",
   "pygments_lexer": "ipython3",
   "version": "3.12.0"
  }
 },
 "nbformat": 4,
 "nbformat_minor": 2
}
