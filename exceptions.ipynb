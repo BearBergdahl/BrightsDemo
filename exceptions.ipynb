{
 "cells": [
  {
   "cell_type": "markdown",
   "metadata": {},
   "source": [
    "## Demo code - exceptions\n"
   ]
  },
  {
   "cell_type": "code",
   "execution_count": null,
   "metadata": {},
   "outputs": [],
   "source": [
    "import traceback\n",
    "number = 10\n",
    "divisor = 0\n",
    "while divisor == 0:\n",
    "    try: \n",
    "        divisor = int(input('What should we divide 10 by?'))\n",
    "        number = number / divisor\n",
    " \n",
    "    except ZeroDivisionError:\n",
    "        print(\"Can't divide by zero\")\n",
    "        errorfile = open('error.log','w')\n",
    "        errorfile.write(traceback.format_exc())    \n",
    "        errorfile.close()\n",
    "    except ValueError:\n",
    "        print(\"Can't divide by letter or non numbers\")\n",
    "        errorfile = open('error.log','w')\n",
    "        errorfile.write(traceback.format_exc())    \n",
    "        errorfile.close()\n",
    "    print(number)\n",
    "\n",
    "    \n"
   ]
  },
  {
   "cell_type": "markdown",
   "metadata": {},
   "source": [
    "## Exception exercise\n",
    "\n",
    "1. Create a non-notebook python script\n",
    "2. In this script let the user create a new txt-file (same folder as the script)\n",
    "3. Let the user input text. It can't be empty.\n",
    "4. Close the file\n",
    "5. Let the user input a filename to open and print the content of a file. (the file above).\n",
    "6. Let the user append to the file and close.\n",
    "\n",
    "### Second run of this program\n",
    "* Try having the text file you have created up to step 4 open when you do the last two steps.\n",
    "* Handle all errors that can happen."
   ]
  },
  {
   "cell_type": "markdown",
   "metadata": {},
   "source": [
    "## Assert\n",
    "Assert is a way of testing yourself and your code so no logicall errors of your own making stays.\n",
    "An assert throws an AssertionError but shouldn't be caught."
   ]
  },
  {
   "cell_type": "code",
   "execution_count": null,
   "metadata": {},
   "outputs": [],
   "source": [
    "def my_logic_fail():\n",
    "    a_var = True\n",
    "    my_str = input('A word, please!\\n')\n",
    "    if my_str or a_var:\n",
    "        print(my_str)\n",
    "    assert not my_str == '' and not my_str == None, 'whoops the string variable needs checking'\n",
    "\n",
    "my_logic_fail() "
   ]
  },
  {
   "cell_type": "markdown",
   "metadata": {},
   "source": [
    "### Assertions are for preventable errors and domain specific or business rules.\n",
    "They are safeguards written often written on function parameters for example"
   ]
  },
  {
   "cell_type": "code",
   "execution_count": 16,
   "metadata": {},
   "outputs": [
    {
     "ename": "AssertionError",
     "evalue": "",
     "output_type": "error",
     "traceback": [
      "\u001b[1;31m---------------------------------------------------------------------------\u001b[0m",
      "\u001b[1;31mAssertionError\u001b[0m                            Traceback (most recent call last)",
      "Cell \u001b[1;32mIn[16], line 8\u001b[0m\n\u001b[0;32m      5\u001b[0m f_num \u001b[38;5;241m=\u001b[39m \u001b[38;5;241m3.4\u001b[39m\n\u001b[0;32m      6\u001b[0m s_num \u001b[38;5;241m=\u001b[39m \u001b[38;5;124m\"\u001b[39m\u001b[38;5;124m4\u001b[39m\u001b[38;5;124m\"\u001b[39m\n\u001b[1;32m----> 8\u001b[0m \u001b[38;5;28mprint\u001b[39m(\u001b[43minteger_addition\u001b[49m\u001b[43m(\u001b[49m\u001b[43mf_num\u001b[49m\u001b[43m,\u001b[49m\u001b[43m \u001b[49m\u001b[43ms_num\u001b[49m\u001b[43m)\u001b[49m)\n",
      "Cell \u001b[1;32mIn[16], line 2\u001b[0m, in \u001b[0;36minteger_addition\u001b[1;34m(first_num, second_num)\u001b[0m\n\u001b[0;32m      1\u001b[0m \u001b[38;5;28;01mdef\u001b[39;00m \u001b[38;5;21minteger_addition\u001b[39m(first_num, second_num):\n\u001b[1;32m----> 2\u001b[0m     \u001b[38;5;28;01massert\u001b[39;00m \u001b[38;5;28misinstance\u001b[39m(first_num, \u001b[38;5;28mint\u001b[39m) \u001b[38;5;129;01mand\u001b[39;00m \u001b[38;5;28misinstance\u001b[39m(second_num, \u001b[38;5;28mint\u001b[39m)\n\u001b[0;32m      3\u001b[0m     \u001b[38;5;28;01mreturn\u001b[39;00m first_num\u001b[38;5;241m+\u001b[39msecond_num\n",
      "\u001b[1;31mAssertionError\u001b[0m: "
     ]
    }
   ],
   "source": [
    "def integer_addition(first_num, second_num):\n",
    "    assert isinstance(first_num, int) and isinstance(second_num, int)\n",
    "    return first_num+second_num\n",
    "\n",
    "f_num = 3.4\n",
    "s_num = \"4\"\n",
    "\n",
    "print(integer_addition(f_num, s_num))"
   ]
  }
 ],
 "metadata": {
  "kernelspec": {
   "display_name": "Python 3",
   "language": "python",
   "name": "python3"
  },
  "language_info": {
   "codemirror_mode": {
    "name": "ipython",
    "version": 3
   },
   "file_extension": ".py",
   "mimetype": "text/x-python",
   "name": "python",
   "nbconvert_exporter": "python",
   "pygments_lexer": "ipython3",
   "version": "3.12.0"
  }
 },
 "nbformat": 4,
 "nbformat_minor": 2
}
